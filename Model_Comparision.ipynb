{
 "cells": [
  {
   "cell_type": "markdown",
   "metadata": {},
   "source": [
    "# Overview\n",
    "\n",
    "The aim of this Kernel is to apply the knowledge acquired in the first part ot the subject \"Big Data Intelligence: methods and technologies\" taught in the \"Master in Big Data analytics\" of the university Carlos III of Madrid\n",
    "\n",
    "The main concepts to be learned in this part of the subject are\n",
    "    - How to make data partition to train/test the model (Holdout & Cross Validation)\n",
    "    - How to tune the hyperparamethers for the model\n",
    "    "
   ]
  },
  {
   "cell_type": "markdown",
   "metadata": {},
   "source": [
    "# Index\n",
    "- Importing libraries\n",
    "- Importing data\n",
    "- Spliting the data to train the model\n",
    "- Initializing CV\n",
    "- 3.1.1 Grid Search for hyperparameter tuning KNN\n",
    "    - 3.1.2 Model evaluation\n",
    "- 3.2.1 Random search for Decision Trees\n",
    "    - 3.2.2 Model Evaluation\n",
    "- 3.3.1 Skopt for Decision Trees\n",
    "    - 3.3.2 Model Evaluation\n",
    "- Comparition between models\n",
    "    - Scores\n",
    "    - Time performance\n",
    "- Final model\n",
    "- Exporting the data\n",
    "- Kaggle Score\n",
    "\n",
    "    "
   ]
  },
  {
   "cell_type": "markdown",
   "metadata": {},
   "source": [
    "# Importing Libraries"
   ]
  },
  {
   "cell_type": "code",
   "execution_count": 481,
   "metadata": {},
   "outputs": [],
   "source": [
    "import numpy as np\n",
    "import pandas as pd\n",
    "import math\n",
    "import matplotlib.pyplot as plt\n",
    "import seaborn as sns\n",
    "import mpl_toolkits\n",
    "from sklearn.metrics import mean_squared_error\n",
    ", metrics\n",
    "%matplotlib inline\n",
    "from sklearn.neighbors import KNeighborsRegressor\n",
    "from sklearn.model_selection import cross_val_score, RandomizedSearchCV, KFold, GridSearchCV\n",
    "from scipy.stats import randint\n",
    "from datetime import datetime as time\n",
    "from skopt import BayesSearchCV\n",
    "from scipy.stats import uniform, expon\n",
    "import warnings\n",
    "warnings.filterwarnings('ignore')\n",
    "import pandas as pd\n",
    "import time"
   ]
  },
  {
   "cell_type": "markdown",
   "metadata": {},
   "source": [
    "# Importing data\n"
   ]
  },
  {
   "cell_type": "code",
   "execution_count": 482,
   "metadata": {},
   "outputs": [],
   "source": [
    "data = pd.read_csv(\"kaggleCompetition.csv\")\n",
    "data = data.values\n",
    "\n",
    "X = data[0:1460,:-1]\n",
    "y = data[0:1460,-1]\n",
    "X_comp = data[1460:,:-1]\n",
    "y_comp = data[1460:,-1]"
   ]
  },
  {
   "cell_type": "markdown",
   "metadata": {},
   "source": [
    "# Spliting the data to train the model\n",
    "\n",
    "This must be 100% understood. **YOU CAN NEVER EVALUATE YOUR MODEL WITH YOUR TRAINING DATA!**\n",
    "\n",
    "So that is the reason to split the available data. One third of the data will be used to tune the evaluate the model, while the rest will be used to tune the hyperparameters of the different models using Cross-Validation (cv from now)\n",
    "\n",
    "**C**ross **V**alidation is a kind of generating different scenarios for tuning the hyperparameters of our model. In this case, we will tune the hyperparameters using cv=3 and later we will evaluate the model with cv=4. That means that we divide our training data into four equal parts, eg. A,B,C,D and we will make all the possible combinations of three of them eg. B,D,C to train the model with the different hyperparameters and the use the fourth to test each model "
   ]
  },
  {
   "cell_type": "code",
   "execution_count": 483,
   "metadata": {},
   "outputs": [],
   "source": [
    "from sklearn.model_selection import train_test_split\n",
    "X_train, X_test, y_train, y_test = train_test_split(X, y,test_size=0.33, random_state=0)"
   ]
  },
  {
   "cell_type": "markdown",
   "metadata": {},
   "source": [
    "# Initializing CV"
   ]
  },
  {
   "cell_type": "code",
   "execution_count": 484,
   "metadata": {},
   "outputs": [],
   "source": [
    "kf_3=KFold(n_splits=3,shuffle=True,random_state=0)\n",
    "kf_4=KFold(n_splits=4,shuffle=True,random_state=0)\n",
    "np.random.seed(seed=100)"
   ]
  },
  {
   "cell_type": "markdown",
   "metadata": {},
   "source": [
    "# 3.1.1 Grid Search for hyperparameter tuning KNN\n",
    "\n",
    "KNN is a basic algorithm that computes the mean distance from other neighbors, and assing a mean from the k-nearest neighbors. It just depend on 1 hyperparameter, number of neighbors\n",
    "\n",
    "The purpose of this part of the assingment is to generate a 1D-grid and test all points of that grid, selecting the one that provides better scores."
   ]
  },
  {
   "cell_type": "code",
   "execution_count": 485,
   "metadata": {},
   "outputs": [
    {
     "name": "stdout",
     "output_type": "stream",
     "text": [
      "Best score occurs when  {'n_neighbors': 5}\n"
     ]
    },
    {
     "data": {
      "text/plain": [
       "Text(0,0.5,'Mean score')"
      ]
     },
     "execution_count": 485,
     "metadata": {},
     "output_type": "execute_result"
    },
    {
     "data": {
      "image/png": "[encoded data removed]",
      "text/plain": [
       "<Figure size 432x288 with 1 Axes>"
      ]
     },
     "metadata": {},
     "output_type": "display_data"
    }
   ],
   "source": [
    "# Number of neigbors to try\n",
    "param_grid = {'n_neighbors':list(range(1,30,1))}\n",
    "method_knn=KNeighborsRegressor()\n",
    "\n",
    "#Definition of the method: first tune n_neighbors with CV=3, then train KNN with best n_neighbors\n",
    "clf = GridSearchCV(method_knn,\n",
    "                    param_grid, \n",
    "                    cv=kf_3,\n",
    "                    scoring='neg_mean_squared_error')\n",
    "\n",
    "#Fiting the model with the train data and the best nº neighbors\n",
    "start_3_1_1 = time.time()\n",
    "clf.fit(X_train,y_train)\n",
    "end_3_1_1=time.time()-start_3_1_1\n",
    "\n",
    "clf_3_1=clf\n",
    "\n",
    "scores = [x[1] for x in clf.grid_scores_]\n",
    "scores = np.array(scores)\n",
    "print(\"Best score occurs when \",clf.best_params_)\n",
    "mark=[np.argmax(scores, axis=0)]\n",
    "plt.plot(param_grid[\"n_neighbors\"],np.sqrt(-scores),markevery=mark,marker=\"o\")\n",
    "\n",
    "plt.xlabel('n_neighbors')\n",
    "plt.ylabel('Mean score')\n"
   ]
  },
  {
   "cell_type": "markdown",
   "metadata": {},
   "source": [
    "## 3.1.2 Model evaluation"
   ]
  },
  {
   "cell_type": "code",
   "execution_count": 487,
   "metadata": {},
   "outputs": [
    {
     "name": "stdout",
     "output_type": "stream",
     "text": [
      "Mean CV scores for KNN with grid search:  0.2459508292726629\n"
     ]
    }
   ],
   "source": [
    "print(\"Mean CV scores for KNN with grid search: \",np.sqrt(-np.mean(cross_val_score(clf, X_test, y_test, cv=kf_4,scoring='neg_mean_squared_error'))))"
   ]
  },
  {
   "cell_type": "markdown",
   "metadata": {},
   "source": [
    "# 3.2.1 Random search for Decision Trees\n",
    "\n",
    "Decision tree is a very well known algorithm for machine learning. It consist on making branchings by minimizing the entrophy. The main hyperparameters to be tested are the max_depth (the number of heights of the tree) the min_samples_split (the minimum number of observations for each leave) and the decision criteria.\n",
    "\n",
    "The purpose of this part of the assingment is to select randomly points from a 3D-grid and test it, selecting the one that provided better scores.\n"
   ]
  },
  {
   "cell_type": "code",
   "execution_count": 488,
   "metadata": {},
   "outputs": [],
   "source": [
    "# specify parameters and distributions to sample from\n",
    "param_dist = {\"max_depth\": randint(2, 16),\n",
    "              \"min_samples_split\": randint(2, 16),\n",
    "              \"criterion\": ['mse','friedman_mse']}\n",
    "\n",
    "# run randomized search\n",
    "n_iter_search = 20\n",
    "clf = RandomizedSearchCV(tree.DecisionTreeRegressor(),\n",
    "                         param_distributions=param_dist,\n",
    "                         scoring='neg_mean_squared_error',\n",
    "                         n_iter=n_iter_search, cv=kf_3)\n",
    "start_3_2_1 = time.time()\n",
    "clf.fit(X_train,y_train)\n",
    "end_3_2_1=time.time()-start_3_2_1\n",
    "clf_3_2=clf"
   ]
  },
  {
   "cell_type": "code",
   "execution_count": 489,
   "metadata": {},
   "outputs": [
    {
     "data": {
      "text/plain": [
       "Text(0,0.5,'Mean score')"
      ]
     },
     "execution_count": 489,
     "metadata": {},
     "output_type": "execute_result"
    },
    {
     "data": {
      "image/png": "[encoded data removed]",
      "text/plain": [
       "<Figure size 432x288 with 1 Axes>"
      ]
     },
     "metadata": {},
     "output_type": "display_data"
    }
   ],
   "source": [
    "scores = [x[1] for x in clf.grid_scores_]\n",
    "scores = np.array(scores)\n",
    "mark=[np.argmax(scores, axis=0)]\n",
    "plt.plot(np.array(list(range(n_iter_search))),np.sqrt(-scores),markevery=mark,marker=\"o\")\n",
    "\n",
    "plt.xlabel('Nº iter')\n",
    "plt.ylabel('Mean score')"
   ]
  },
  {
   "cell_type": "markdown",
   "metadata": {},
   "source": [
    "## 3.2.2 Model Evaluation"
   ]
  },
  {
   "cell_type": "code",
   "execution_count": 491,
   "metadata": {},
   "outputs": [
    {
     "name": "stdout",
     "output_type": "stream",
     "text": [
      "Best parameters for Decision Trees Random Search:  {'criterion': 'mse', 'max_depth': 13, 'min_samples_split': 11}\n",
      "Mean CV scores for Decision Trees Random search:  0.21560907612447386\n"
     ]
    }
   ],
   "source": [
    "np.random.seed(0)\n",
    "print(\"Best parameters for Decision Trees Random Search: \",clf.best_params_)\n",
    "print(\"Mean CV scores for Decision Trees Random search: \",np.sqrt(-np.mean(cross_val_score(clf, X_test, y_test, cv=kf_4,scoring='neg_mean_squared_error'))))"
   ]
  },
  {
   "cell_type": "markdown",
   "metadata": {},
   "source": [
    "# 3.3.1 Skopt for Decision Trees\n",
    "\n",
    "Finally, Bayesian optimization tries to look for the best hyperparameters but in a clever way, not just evaluating all the grid or randomly selecting points. It will provide more importance to those hyperparameters that has a higher impact on the model scores, so it will expend more time in this hyperparameters refinement."
   ]
  },
  {
   "cell_type": "code",
   "execution_count": 492,
   "metadata": {},
   "outputs": [],
   "source": [
    "# Search space with integer uniform distributions\n",
    "param_grid = {'max_depth': (2,16),\n",
    "              'min_samples_split': (2,16),\n",
    "              'criterion':['mse','friedman_mse']}\n",
    "\n",
    "budget = 20\n",
    "# random.seed = 0 for reproducibility\n",
    "np.random.seed(0)\n",
    "clf = BayesSearchCV(tree.DecisionTreeRegressor(),\n",
    "                    param_grid,\n",
    "                    scoring='neg_mean_squared_error',\n",
    "                    cv=kf_3,    \n",
    "                    n_jobs=-1, verbose=0,\n",
    "                    n_iter=budget\n",
    "                   )\n",
    "start_3_3_1 = time.time()\n",
    "clf.fit(X_train,y_train)\n",
    "end_3_3_1=time.time()-start_3_3_1\n",
    "\n",
    "clf_3_3=clf"
   ]
  },
  {
   "cell_type": "code",
   "execution_count": 493,
   "metadata": {},
   "outputs": [
    {
     "data": {
      "text/plain": [
       "Text(0,0.5,'Mean score')"
      ]
     },
     "execution_count": 493,
     "metadata": {},
     "output_type": "execute_result"
    },
    {
     "data": {
      "image/png": "[encoded data removed]",
      "text/plain": [
       "<Figure size 432x288 with 1 Axes>"
      ]
     },
     "metadata": {},
     "output_type": "display_data"
    }
   ],
   "source": [
    "scores = [x[1] for x in clf.grid_scores_]\n",
    "scores = np.array(scores)\n",
    "mark=[np.argmax(scores, axis=0)]\n",
    "n_iter_search=10\n",
    "plt.plot(np.array(list(range(budget))),np.sqrt(-scores),markevery=mark,marker=\"o\")\n",
    "\n",
    "plt.xlabel('Nº iter')\n",
    "plt.ylabel('Mean score')"
   ]
  },
  {
   "cell_type": "markdown",
   "metadata": {},
   "source": [
    "## 3.3.2 Model Evaluation "
   ]
  },
  {
   "cell_type": "code",
   "execution_count": 497,
   "metadata": {},
   "outputs": [
    {
     "name": "stdout",
     "output_type": "stream",
     "text": [
      "Best parameters for Decision Trees Skopt:  {'criterion': 'friedman_mse', 'max_depth': 7, 'min_samples_split': 2}\n",
      "Mean CV scores for Decision Trees Skopt:  0.21433855844562888\n"
     ]
    }
   ],
   "source": [
    "np.random.seed(0)\n",
    "print(\"Best parameters for Decision Trees Skopt: \",clf.best_params_)\n",
    "print(\"Mean CV scores for Decision Trees Skopt: \",np.sqrt(-np.mean(cross_val_score(clf, X_test, y_test, cv=kf_4,scoring='neg_mean_squared_error',n_jobs=-1))))\n"
   ]
  },
  {
   "cell_type": "markdown",
   "metadata": {},
   "source": [
    "# Comparition between models"
   ]
  },
  {
   "cell_type": "markdown",
   "metadata": {},
   "source": [
    "## Scores\n",
    "\n",
    "Best scores are achieved using Bayesian optimization for decision trees as we can see in the graph below"
   ]
  },
  {
   "cell_type": "code",
   "execution_count": 508,
   "metadata": {},
   "outputs": [],
   "source": [
    "np.random.seed(seed=10)\n",
    "df = pd.DataFrame(\n",
    "    {\"KNN\" : np.sqrt(np.array(-cross_val_score(clf_3_1, X_test, y_test, cv=kf_4,scoring='neg_mean_squared_error',n_jobs=-1))),\n",
    "    \"Random Decision Trees\" : np.sqrt(np.array(-cross_val_score(clf_3_2, X_test, y_test, cv=kf_4,scoring='neg_mean_squared_error',n_jobs=-1))),\n",
    "    \"Opt Decision Trees\" : np.sqrt(np.array(-cross_val_score(clf_3_3, X_test, y_test, cv=kf_4,scoring='neg_mean_squared_error',n_jobs=-1)))\n",
    "    }\n",
    ")"
   ]
  },
  {
   "cell_type": "code",
   "execution_count": 509,
   "metadata": {},
   "outputs": [
    {
     "data": {
      "text/plain": [
       "<matplotlib.axes._subplots.AxesSubplot at 0x1bb6298bf28>"
      ]
     },
     "execution_count": 509,
     "metadata": {},
     "output_type": "execute_result"
    },
    {
     "data": {
      "image/png": "[encoded data removed]",
      "text/plain": [
       "<Figure size 432x288 with 1 Axes>"
      ]
     },
     "metadata": {},
     "output_type": "display_data"
    }
   ],
   "source": [
    "df.plot(legend=True)"
   ]
  },
  {
   "cell_type": "code",
   "execution_count": 510,
   "metadata": {},
   "outputs": [
    {
     "data": {
      "text/plain": [
       "KNN                      0.245248\n",
       "Random Decision Trees    0.225238\n",
       "Opt Decision Trees       0.223464\n",
       "dtype: float64"
      ]
     },
     "execution_count": 510,
     "metadata": {},
     "output_type": "execute_result"
    }
   ],
   "source": [
    "df.mean(axis=0)"
   ]
  },
  {
   "cell_type": "markdown",
   "metadata": {},
   "source": [
    "## Time performance\n",
    "\n",
    "From the results above, we can see that there is a big difference between the model created using Bayesian optimization and the others. This could happend due to the complexity of the function that works inside this algorithm"
   ]
  },
  {
   "cell_type": "code",
   "execution_count": 511,
   "metadata": {},
   "outputs": [
    {
     "name": "stdout",
     "output_type": "stream",
     "text": [
      "Time required for fitting KNN: 2.664536476135254\n",
      "Time required for fitting Decision Trees with grid search: 0.40820741653442383\n",
      "Time required for fitting Decision Trees with Bayesian opt: 30.327412366867065\n"
     ]
    }
   ],
   "source": [
    "print(\"Time required for fitting KNN:\",end_3_1_1)\n",
    "print(\"Time required for fitting Decision Trees with grid search:\",end_3_2_1)\n",
    "print(\"Time required for fitting Decision Trees with Bayesian opt:\",end_3_3_1)\n"
   ]
  },
  {
   "cell_type": "markdown",
   "metadata": {},
   "source": [
    "# Final model\n",
    "\n",
    "The best performance was achieved with the Bayesian optimization method. There is no time limits in this case, so this model will be the final one despite the fact that it is the one that takes higher time.\n",
    "\n",
    "The hyperparameters selected are:\n",
    "    - 'criterion': 'mse'\n",
    "    - 'max_depth': 16\n",
    "    - 'min_samples_split': 16\n",
    "        "
   ]
  },
  {
   "cell_type": "markdown",
   "metadata": {},
   "source": [
    "## Exporting the data"
   ]
  },
  {
   "cell_type": "code",
   "execution_count": 512,
   "metadata": {},
   "outputs": [],
   "source": [
    "clf_3_3.fit(X,y)\n",
    "y_comp=clf_3_3.predict(X_comp)\n",
    "y_comp=np.array(y_comp)\n",
    "y_comp_exp=np.exp(y_comp)\n",
    "\n",
    "dat=pd.DataFrame(y_comp_exp)\n",
    "dat.index = pd.RangeIndex(start=1461, stop=1461+dat.size,step=1)\n",
    "\n",
    "dat.columns = ['SalePrice']\n",
    "dat.to_csv(\"Final_Model.csv\")"
   ]
  },
  {
   "cell_type": "markdown",
   "metadata": {},
   "source": [
    "# Kaggle score\n",
    "\n",
    "Finally, the score obtained in Kaggle was 0.19377, better than previous results, as expected because we are fiting the model with the whole dataset, not just with the training partition\n"
   ]
  }
 ],
 "metadata": {
  "kernelspec": {
   "display_name": "Python 3",
   "language": "python",
   "name": "python3"
  },
  "language_info": {
   "codemirror_mode": {
    "name": "ipython",
    "version": 3
   },
   "file_extension": ".py",
   "mimetype": "text/x-python",
   "name": "python",
   "nbconvert_exporter": "python",
   "pygments_lexer": "ipython3",
   "version": "3.6.5"
  }
 },
 "nbformat": 4,
 "nbformat_minor": 2
}
